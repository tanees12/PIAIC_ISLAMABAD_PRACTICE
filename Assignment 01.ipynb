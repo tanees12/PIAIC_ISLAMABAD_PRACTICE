{
 "cells": [
  {
   "cell_type": "markdown",
   "metadata": {},
   "source": [
    "Assignment: 01 we have to build programs using built-in fucntions with strings.\n",
    "'capitalize','casefold','center','count','encode','endswith','expandtabs','find','format','foramt_map','index','isalnum','isalpha','isascii','isdecimal','isdigit','isidentifier','islower','isnumeric','isprintable','isspace','islitle','isupper','join','ljust','lower','lstrip','maketrans','partitiom','replace''rfind','rindex','rjust','rpartition','rsplit','rstrip','split','splitlines','startswith','strip','swapcase','title','translate','upper','zfill'"
   ]
  },
  {
   "cell_type": "markdown",
   "metadata": {},
   "source": [
    "Capitalize"
   ]
  },
  {
   "cell_type": "code",
   "execution_count": 3,
   "metadata": {},
   "outputs": [
    {
     "name": "stdout",
     "output_type": "stream",
     "text": [
      "How are you\n",
      "HowAreYou\n"
     ]
    }
   ],
   "source": [
    "sentence = \"how are you\"\n",
    "print(sentence.capitalize())\n",
    "sentence1 = \"how\"\n",
    "sentence2 = \"are\"\n",
    "sentence3= \"you\"\n",
    "print(sentence1.capitalize() + sentence2.capitalize() + sentence3.capitalize())\n"
   ]
  },
  {
   "cell_type": "markdown",
   "metadata": {},
   "source": [
    "## casefold"
   ]
  },
  {
   "cell_type": "code",
   "execution_count": 4,
   "metadata": {},
   "outputs": [
    {
     "name": "stdout",
     "output_type": "stream",
     "text": [
      "good morning\n"
     ]
    }
   ],
   "source": [
    "sentence = \"GOOD MORNING\"\n",
    "print(sentence.casefold())"
   ]
  },
  {
   "cell_type": "markdown",
   "metadata": {},
   "source": [
    "## center"
   ]
  },
  {
   "cell_type": "code",
   "execution_count": 5,
   "metadata": {},
   "outputs": [
    {
     "name": "stdout",
     "output_type": "stream",
     "text": [
      "!!!!!!ASSIGNMENT 01!!!!!!\n"
     ]
    }
   ],
   "source": [
    "sentence = \"ASSIGNMENT 01\"\n",
    "print(sentence.center(25,'!'))"
   ]
  },
  {
   "cell_type": "markdown",
   "metadata": {},
   "source": [
    "count"
   ]
  },
  {
   "cell_type": "code",
   "execution_count": 17,
   "metadata": {},
   "outputs": [
    {
     "name": "stdout",
     "output_type": "stream",
     "text": [
      "The number of repeatition of word is:  2\n"
     ]
    }
   ],
   "source": [
    "sentence =\"Pakistan is the most beautiful country in the world\"\n",
    "word=\"the\"\n",
    "sentence_repeat=sentence.count(word)\n",
    "print(\"The number of repeatition of word is: \",sentence_repeat)"
   ]
  },
  {
   "cell_type": "markdown",
   "metadata": {},
   "source": [
    "encode"
   ]
  },
  {
   "cell_type": "code",
   "execution_count": 13,
   "metadata": {},
   "outputs": [
    {
     "name": "stdout",
     "output_type": "stream",
     "text": [
      "original version is:  secret informatiön!\n",
      "encode version is:  b'secret informati\\xc3\\xb6n!'\n"
     ]
    }
   ],
   "source": [
    "sentence = \"secret informatiön!\"\n",
    "print(\"original version is: \",sentence)\n",
    "sentence_utf= sentence.encode()\n",
    "print(\"encode version is: \",sentence_utf)"
   ]
  },
  {
   "cell_type": "markdown",
   "metadata": {},
   "source": [
    "endswith"
   ]
  },
  {
   "cell_type": "code",
   "execution_count": 14,
   "metadata": {},
   "outputs": [
    {
     "name": "stdout",
     "output_type": "stream",
     "text": [
      "True\n",
      "False\n"
     ]
    }
   ],
   "source": [
    "sentence = \"The sentence is ending with word MANGO\"\n",
    "result=sentence.endswith(\"MANGO\")\n",
    "print(result)\n",
    "result1=sentence.endswith(\"word\")\n",
    "print(result1)"
   ]
  },
  {
   "cell_type": "markdown",
   "metadata": {},
   "source": [
    "expandtabs"
   ]
  },
  {
   "cell_type": "code",
   "execution_count": 18,
   "metadata": {},
   "outputs": [
    {
     "name": "stdout",
     "output_type": "stream",
     "text": [
      "Student 01      got     marks\n",
      "Student 01  got     marks\n",
      "Student 01  got   marks\n"
     ]
    }
   ],
   "source": [
    "sentence = 'Student\\t01\\tgot\\40\\tmarks'\n",
    "print(sentence.expandtabs())\n",
    "print(sentence.expandtabs(4))\n",
    "print(sentence.expandtabs(2))"
   ]
  },
  {
   "cell_type": "markdown",
   "metadata": {},
   "source": [
    "Find"
   ]
  },
  {
   "cell_type": "code",
   "execution_count": 20,
   "metadata": {},
   "outputs": [
    {
     "name": "stdout",
     "output_type": "stream",
     "text": [
      "7\n",
      "21\n"
     ]
    }
   ],
   "source": [
    "sentence = \"Hello, welcome to my world.\"\n",
    "\n",
    "print(sentence.find(\"welcome\"))\n",
    "print(sentence.find(\"world\"))\n"
   ]
  },
  {
   "cell_type": "markdown",
   "metadata": {},
   "source": [
    "format"
   ]
  },
  {
   "cell_type": "code",
   "execution_count": 21,
   "metadata": {},
   "outputs": [
    {
     "name": "stdout",
     "output_type": "stream",
     "text": [
      "I am 21 years old\n"
     ]
    }
   ],
   "source": [
    "print(\"I am {} years old\".format('21'))"
   ]
  },
  {
   "cell_type": "markdown",
   "metadata": {},
   "source": [
    "format_map"
   ]
  },
  {
   "cell_type": "code",
   "execution_count": 22,
   "metadata": {},
   "outputs": [
    {
     "name": "stdout",
     "output_type": "stream",
     "text": [
      "There are animals and birds in the forest\n"
     ]
    }
   ],
   "source": [
    "replacement={'a':'animals','b':'birds'}\n",
    "print(\"There are {a} and {b} in the forest\".format_map(replacement))"
   ]
  },
  {
   "cell_type": "markdown",
   "metadata": {},
   "source": [
    "Index"
   ]
  },
  {
   "cell_type": "code",
   "execution_count": 23,
   "metadata": {
    "scrolled": true
   },
   "outputs": [
    {
     "name": "stdout",
     "output_type": "stream",
     "text": [
      "3\n",
      "3\n"
     ]
    }
   ],
   "source": [
    "list1 = [1, 2, 3, 4, 1, 1, 1, 4, 5] \n",
    "  \n",
    "print(list1.index(4)) \n",
    "  \n",
    "list2 = ['animals', 'birds', 'mamals', 'insects'] \n",
    "  \n",
    "\n",
    "print(list2.index('insects')) "
   ]
  },
  {
   "cell_type": "markdown",
   "metadata": {},
   "source": [
    "isalnum"
   ]
  },
  {
   "cell_type": "code",
   "execution_count": 28,
   "metadata": {},
   "outputs": [
    {
     "name": "stdout",
     "output_type": "stream",
     "text": [
      "True\n",
      "False\n"
     ]
    }
   ],
   "source": [
    "sentence = \"STUDENT01\"\n",
    "print(sentence.isalnum()) \n",
    "  \n",
    "\n",
    "sentence = \"STUDENT 01\" \n",
    "print(sentence.isalnum()) "
   ]
  },
  {
   "cell_type": "markdown",
   "metadata": {},
   "source": [
    "isalpha"
   ]
  },
  {
   "cell_type": "code",
   "execution_count": 31,
   "metadata": {},
   "outputs": [
    {
     "name": "stdout",
     "output_type": "stream",
     "text": [
      "True\n",
      "False\n"
     ]
    }
   ],
   "source": [
    "sentence = \"PAKISTANisnumberone\"\n",
    "print(sentence.isalpha())\n",
    "sentence='PAKISTAN is number one'\n",
    "print(sentence.isalpha())"
   ]
  },
  {
   "cell_type": "markdown",
   "metadata": {},
   "source": [
    "isasscii"
   ]
  },
  {
   "cell_type": "code",
   "execution_count": 33,
   "metadata": {},
   "outputs": [
    {
     "name": "stdout",
     "output_type": "stream",
     "text": [
      "True\n",
      "False\n"
     ]
    }
   ],
   "source": [
    "sentence = 'Studytonight'\n",
    "print(sentence.isascii())\n",
    "sentence ='studytönight'\n",
    "print(sentence.isascii())"
   ]
  },
  {
   "cell_type": "markdown",
   "metadata": {},
   "source": [
    "isdecimal"
   ]
  },
  {
   "cell_type": "code",
   "execution_count": 34,
   "metadata": {},
   "outputs": [
    {
     "name": "stdout",
     "output_type": "stream",
     "text": [
      "True\n",
      "False\n"
     ]
    }
   ],
   "source": [
    "integers='1234'\n",
    "print(integers.isdecimal())\n",
    "integers='1234.21'\n",
    "print(integers.isdecimal())"
   ]
  },
  {
   "cell_type": "markdown",
   "metadata": {},
   "source": [
    "isdigit"
   ]
  },
  {
   "cell_type": "code",
   "execution_count": 35,
   "metadata": {},
   "outputs": [
    {
     "name": "stdout",
     "output_type": "stream",
     "text": [
      "True\n",
      "False\n"
     ]
    }
   ],
   "source": [
    "digits='123'\n",
    "print(digits.isdigit())\n",
    "digits='123abc'\n",
    "print(digits.isdigit())"
   ]
  },
  {
   "cell_type": "markdown",
   "metadata": {},
   "source": [
    "isidentifier"
   ]
  },
  {
   "cell_type": "code",
   "execution_count": 37,
   "metadata": {},
   "outputs": [
    {
     "name": "stdout",
     "output_type": "stream",
     "text": [
      "False\n",
      "True\n"
     ]
    }
   ],
   "source": [
    "sentence = \"what is this\"\n",
    "print(sentence.isidentifier())\n",
    "sentence =\"what\"\n",
    "print(sentence.isidentifier())"
   ]
  },
  {
   "cell_type": "markdown",
   "metadata": {},
   "source": [
    "islower"
   ]
  },
  {
   "cell_type": "code",
   "execution_count": 38,
   "metadata": {},
   "outputs": [
    {
     "name": "stdout",
     "output_type": "stream",
     "text": [
      "True\n",
      "False\n"
     ]
    }
   ],
   "source": [
    "sentence = \"this is good\"\n",
    "print(sentence.islower())\n",
    "sentence = \"this is Good\"\n",
    "print(sentence.islower())"
   ]
  },
  {
   "cell_type": "markdown",
   "metadata": {},
   "source": [
    "isnumeric"
   ]
  },
  {
   "cell_type": "code",
   "execution_count": 39,
   "metadata": {},
   "outputs": [
    {
     "name": "stdout",
     "output_type": "stream",
     "text": [
      "False\n",
      "True\n"
     ]
    }
   ],
   "source": [
    "sentence = \"is numeric 123\"\n",
    "print(sentence.isnumeric())\n",
    "sentence = '123'\n",
    "print(sentence.isnumeric())"
   ]
  },
  {
   "cell_type": "markdown",
   "metadata": {},
   "source": [
    "isprintable"
   ]
  },
  {
   "cell_type": "code",
   "execution_count": 40,
   "metadata": {},
   "outputs": [
    {
     "name": "stdout",
     "output_type": "stream",
     "text": [
      "True\n",
      "False\n"
     ]
    }
   ],
   "source": [
    "sentence = \"This is printable\"\n",
    "print(sentence.isprintable())\n",
    "sentence = \"\\n this is not printable\"\n",
    "print(sentence.isprintable())\n"
   ]
  },
  {
   "cell_type": "markdown",
   "metadata": {},
   "source": [
    "isspace"
   ]
  },
  {
   "cell_type": "code",
   "execution_count": 41,
   "metadata": {},
   "outputs": [
    {
     "name": "stdout",
     "output_type": "stream",
     "text": [
      "True\n",
      "False\n"
     ]
    }
   ],
   "source": [
    "sentence = \"\\n\"\n",
    "print(sentence.isspace())\n",
    "sentence = \"this\\nis\\nnot\\space\"\n",
    "print(sentence.isspace())"
   ]
  },
  {
   "cell_type": "markdown",
   "metadata": {},
   "source": [
    "istitle"
   ]
  },
  {
   "cell_type": "code",
   "execution_count": 42,
   "metadata": {},
   "outputs": [
    {
     "name": "stdout",
     "output_type": "stream",
     "text": [
      "True\n",
      "False\n"
     ]
    }
   ],
   "source": [
    "TITLE= \"My Best Friend\"\n",
    "print(TITLE.istitle())\n",
    "TITLE =\"my best friend\"\n",
    "print(TITLE.istitle())"
   ]
  },
  {
   "cell_type": "markdown",
   "metadata": {},
   "source": [
    "isupper"
   ]
  },
  {
   "cell_type": "code",
   "execution_count": 44,
   "metadata": {
    "scrolled": true
   },
   "outputs": [
    {
     "name": "stdout",
     "output_type": "stream",
     "text": [
      "True\n",
      "False\n"
     ]
    }
   ],
   "source": [
    "sentence=\"GOOD WORK\"\n",
    "print(sentence.isupper())\n",
    "sentence=\"good work\"\n",
    "print(sentence.isupper())"
   ]
  },
  {
   "cell_type": "markdown",
   "metadata": {},
   "source": [
    "join"
   ]
  },
  {
   "cell_type": "code",
   "execution_count": 45,
   "metadata": {},
   "outputs": [
    {
     "name": "stdout",
     "output_type": "stream",
     "text": [
      "3xyz4xyz5\n",
      "x345y345z\n"
     ]
    }
   ],
   "source": [
    "sentence1=\"xyz\"\n",
    "sentence2=\"345\"\n",
    "print(sentence1.join(sentence2))\n",
    "print(sentence2.join(sentence1))"
   ]
  },
  {
   "cell_type": "markdown",
   "metadata": {},
   "source": [
    "ljust\n"
   ]
  },
  {
   "cell_type": "code",
   "execution_count": 47,
   "metadata": {},
   "outputs": [
    {
     "name": "stdout",
     "output_type": "stream",
     "text": [
      "I love Pakistan\n",
      "I love Pakistan--------\n"
     ]
    }
   ],
   "source": [
    "sentence=\"I love Pakistan\"\n",
    "print(sentence)\n",
    "print(sentence.ljust(23,'-'))"
   ]
  },
  {
   "cell_type": "markdown",
   "metadata": {},
   "source": [
    "lower"
   ]
  },
  {
   "cell_type": "code",
   "execution_count": 48,
   "metadata": {},
   "outputs": [
    {
     "name": "stdout",
     "output_type": "stream",
     "text": [
      "good morning\n"
     ]
    }
   ],
   "source": [
    "sentence =\"GOOD MORNING\"\n",
    "print(sentence.lower())"
   ]
  },
  {
   "cell_type": "markdown",
   "metadata": {},
   "source": [
    "lstrip"
   ]
  },
  {
   "cell_type": "raw",
   "metadata": {},
   "source": [
    "sentence =\"             there is white space\"\n",
    "print(sentence.lstrip())\n",
    "print(sentence)"
   ]
  },
  {
   "cell_type": "markdown",
   "metadata": {},
   "source": [
    "maketrans"
   ]
  },
  {
   "cell_type": "code",
   "execution_count": 51,
   "metadata": {},
   "outputs": [
    {
     "name": "stdout",
     "output_type": "stream",
     "text": [
      "{80: 77, 65: 71, 75: 82, 73: 78, 83: 73, 84: 78, 78: 83}\n"
     ]
    }
   ],
   "source": [
    "sentence1 =\"PAKISTAN\"\n",
    "sentence2 =\"MORNINGS\"\n",
    "sentence=\"PAKISTAN\"\n",
    "print(sentence.maketrans(sentence1,sentence2))"
   ]
  },
  {
   "cell_type": "markdown",
   "metadata": {},
   "source": [
    "partition"
   ]
  },
  {
   "cell_type": "code",
   "execution_count": 52,
   "metadata": {},
   "outputs": [
    {
     "name": "stdout",
     "output_type": "stream",
     "text": [
      "('I am having ', 'is ', 'fun')\n",
      "('I am having is fun', '', '')\n"
     ]
    }
   ],
   "source": [
    "sentence = \"I am having is fun\"\n",
    "\n",
    "print(sentence.partition('is '))\n",
    "\n",
    "print(sentence.partition('are '))"
   ]
  },
  {
   "cell_type": "markdown",
   "metadata": {},
   "source": [
    "replace"
   ]
  },
  {
   "cell_type": "code",
   "execution_count": 53,
   "metadata": {},
   "outputs": [
    {
     "name": "stdout",
     "output_type": "stream",
     "text": [
      "Kashif is 18 year old\n"
     ]
    }
   ],
   "source": [
    "sentence = \"usman is 18 year old\"\n",
    "print(sentence.replace(\"usman\",\"Kashif\",))"
   ]
  },
  {
   "cell_type": "markdown",
   "metadata": {},
   "source": [
    "rfind"
   ]
  },
  {
   "cell_type": "code",
   "execution_count": 54,
   "metadata": {},
   "outputs": [
    {
     "name": "stdout",
     "output_type": "stream",
     "text": [
      "7\n"
     ]
    }
   ],
   "source": [
    "sentence =\"I love this\"\n",
    "word=\"this\"\n",
    "print(sentence.rfind(word))"
   ]
  },
  {
   "cell_type": "markdown",
   "metadata": {},
   "source": [
    "rindex"
   ]
  },
  {
   "cell_type": "code",
   "execution_count": 57,
   "metadata": {},
   "outputs": [
    {
     "name": "stdout",
     "output_type": "stream",
     "text": [
      "5\n"
     ]
    }
   ],
   "source": [
    "sentence = \"this is string example\";\n",
    "word = \"is\";\n",
    "\n",
    "print (sentence.rindex(word))"
   ]
  },
  {
   "cell_type": "markdown",
   "metadata": {},
   "source": [
    "rpartition"
   ]
  },
  {
   "cell_type": "code",
   "execution_count": 59,
   "metadata": {},
   "outputs": [
    {
     "name": "stdout",
     "output_type": "stream",
     "text": [
      "('it is raining today, I am ', 'loving', ' it')\n",
      "('sTUDENT ', '1', ' is fail')\n"
     ]
    }
   ],
   "source": [
    "sentence = \"it is raining today, I am loving it\"\n",
    "  \n",
    "sentence2 = \"sTUDENT 1 is fail\"\n",
    "  \n",
    "print(sentence.rpartition('loving')) \n",
    "   \n",
    "print(sentence2.rpartition('1'))"
   ]
  },
  {
   "cell_type": "markdown",
   "metadata": {},
   "source": [
    "rjust"
   ]
  },
  {
   "cell_type": "code",
   "execution_count": 60,
   "metadata": {},
   "outputs": [
    {
     "name": "stdout",
     "output_type": "stream",
     "text": [
      "000000000000000000000000000000000printing 50 zeros\n"
     ]
    }
   ],
   "source": [
    "sentence = \"printing 50 zeros\";\n",
    "print (sentence.rjust(50, '0'))"
   ]
  },
  {
   "cell_type": "markdown",
   "metadata": {},
   "source": [
    "rsplit"
   ]
  },
  {
   "cell_type": "code",
   "execution_count": 61,
   "metadata": {},
   "outputs": [
    {
     "name": "stdout",
     "output_type": "stream",
     "text": [
      "['kashif', 'usman', 'noman']\n"
     ]
    }
   ],
   "source": [
    "sentence = \"kashif, usman, noman\"\n",
    "\n",
    "print(sentence.rsplit(\", \"))"
   ]
  },
  {
   "cell_type": "markdown",
   "metadata": {},
   "source": [
    "rstrip"
   ]
  },
  {
   "cell_type": "code",
   "execution_count": 63,
   "metadata": {},
   "outputs": [
    {
     "name": "stdout",
     "output_type": "stream",
     "text": [
      "     Kashif is a good boy\n"
     ]
    }
   ],
   "source": [
    "word = \"     Kashif     \"\n",
    "\n",
    "print(word.rstrip(),\"is a good boy\")"
   ]
  },
  {
   "cell_type": "markdown",
   "metadata": {},
   "source": [
    "splitlines"
   ]
  },
  {
   "cell_type": "code",
   "execution_count": 65,
   "metadata": {},
   "outputs": [
    {
     "name": "stdout",
     "output_type": "stream",
     "text": [
      "['limited is limited', 'I have to complete this']\n"
     ]
    }
   ],
   "source": [
    "sentence = \"limited is limited\\nI have to complete this\"\n",
    "\n",
    "result = sentence.splitlines()\n",
    "\n",
    "print(result)"
   ]
  },
  {
   "cell_type": "markdown",
   "metadata": {},
   "source": [
    "split"
   ]
  },
  {
   "cell_type": "code",
   "execution_count": 66,
   "metadata": {},
   "outputs": [
    {
     "name": "stdout",
     "output_type": "stream",
     "text": [
      "['welcome', 'to', 'my', 'house']\n"
     ]
    }
   ],
   "source": [
    "txt = \"welcome to my house\"\n",
    "\n",
    "print(txt.split())"
   ]
  },
  {
   "cell_type": "markdown",
   "metadata": {},
   "source": [
    "startswith"
   ]
  },
  {
   "cell_type": "code",
   "execution_count": 69,
   "metadata": {},
   "outputs": [
    {
     "name": "stdout",
     "output_type": "stream",
     "text": [
      "True\n",
      "False\n"
     ]
    }
   ],
   "source": [
    "sentence =\"I am getting late\"\n",
    "print(sentence.startswith(\"I\"))\n",
    "print(sentence.startswith(\"am\"))"
   ]
  },
  {
   "cell_type": "markdown",
   "metadata": {},
   "source": [
    "strip"
   ]
  },
  {
   "cell_type": "code",
   "execution_count": 72,
   "metadata": {},
   "outputs": [
    {
     "name": "stdout",
     "output_type": "stream",
     "text": [
      "Coding is love\n",
      "         Coding is love  \n"
     ]
    }
   ],
   "source": [
    "sentence = '         Coding is love  '\n",
    "\n",
    "print(sentence.strip())\n",
    "print(sentence.strip(\"e\"))"
   ]
  },
  {
   "cell_type": "markdown",
   "metadata": {},
   "source": [
    "swapcase"
   ]
  },
  {
   "cell_type": "code",
   "execution_count": 73,
   "metadata": {},
   "outputs": [
    {
     "name": "stdout",
     "output_type": "stream",
     "text": [
      "Brave Boy\n"
     ]
    }
   ],
   "source": [
    "sentence =\"bRAVE bOY\"\n",
    "print(sentence.swapcase())"
   ]
  },
  {
   "cell_type": "markdown",
   "metadata": {},
   "source": [
    "title"
   ]
  },
  {
   "cell_type": "code",
   "execution_count": 74,
   "metadata": {},
   "outputs": [
    {
     "name": "stdout",
     "output_type": "stream",
     "text": [
      "My Best Friend\n"
     ]
    }
   ],
   "source": [
    "topic =\"my best friend\"\n",
    "print(topic.title())"
   ]
  },
  {
   "cell_type": "markdown",
   "metadata": {},
   "source": [
    "translate"
   ]
  },
  {
   "cell_type": "code",
   "execution_count": 76,
   "metadata": {},
   "outputs": [
    {
     "name": "stdout",
     "output_type": "stream",
     "text": [
      "Original string: TANEESahmaAd\n",
      "Translated string: mAAdahmad\n"
     ]
    }
   ],
   "source": [
    "firstString = \"TANEES\"\n",
    "secondString = \"ahmaAd\"\n",
    "thirdString = \"TA\"\n",
    "\n",
    "string = \"TANEESahmaAd\"\n",
    "print(\"Original string:\", string)\n",
    "\n",
    "translation = string.maketrans(firstString, secondString, thirdString)\n",
    "print(\"Translated string:\", string.translate(translation))\n"
   ]
  },
  {
   "cell_type": "markdown",
   "metadata": {},
   "source": [
    "upper"
   ]
  },
  {
   "cell_type": "code",
   "execution_count": 77,
   "metadata": {},
   "outputs": [
    {
     "name": "stdout",
     "output_type": "stream",
     "text": [
      "GOOD MORNING\n"
     ]
    }
   ],
   "source": [
    "sentence = \"good morning\"\n",
    "print(sentence.upper())"
   ]
  },
  {
   "cell_type": "markdown",
   "metadata": {},
   "source": [
    "zfill"
   ]
  },
  {
   "cell_type": "code",
   "execution_count": 79,
   "metadata": {},
   "outputs": [
    {
     "name": "stdout",
     "output_type": "stream",
     "text": [
      "000testing\n",
      "000the end\n",
      "000010.123\n"
     ]
    }
   ],
   "source": [
    "a = \"testing\"\n",
    "b = \"the end\"\n",
    "c = \"10.123\"\n",
    "\n",
    "print(a.zfill(10))\n",
    "print(b.zfill(10))\n",
    "print(c.zfill(10))"
   ]
  },
  {
   "cell_type": "code",
   "execution_count": null,
   "metadata": {},
   "outputs": [],
   "source": []
  }
 ],
 "metadata": {
  "kernelspec": {
   "display_name": "Python 3",
   "language": "python",
   "name": "python3"
  },
  "language_info": {
   "codemirror_mode": {
    "name": "ipython",
    "version": 3
   },
   "file_extension": ".py",
   "mimetype": "text/x-python",
   "name": "python",
   "nbconvert_exporter": "python",
   "pygments_lexer": "ipython3",
   "version": "3.7.1"
  }
 },
 "nbformat": 4,
 "nbformat_minor": 2
}
